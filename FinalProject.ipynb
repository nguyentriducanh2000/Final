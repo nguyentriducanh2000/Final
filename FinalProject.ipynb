{
  "nbformat": 4,
  "nbformat_minor": 0,
  "metadata": {
    "colab": {
      "name": "FinalProject.ipynb",
      "provenance": [],
      "collapsed_sections": [],
      "mount_file_id": "1ZUqofEWWJ_2MoAyJLqZN9UOqrOYXW7GR",
      "authorship_tag": "ABX9TyPBh7g5LFDkfEGa5cbzqR/5",
      "include_colab_link": true
    },
    "kernelspec": {
      "name": "python3",
      "display_name": "Python 3"
    },
    "accelerator": "GPU"
  },
  "cells": [
    {
      "cell_type": "markdown",
      "metadata": {
        "id": "view-in-github",
        "colab_type": "text"
      },
      "source": [
        "<a href=\"https://colab.research.google.com/github/ToanToan110/Project_ML/blob/master/FinalProject.ipynb\" target=\"_parent\"><img src=\"https://colab.research.google.com/assets/colab-badge.svg\" alt=\"Open In Colab\"/></a>"
      ]
    },
    {
      "cell_type": "code",
      "metadata": {
        "id": "3PWMsGVTpg_E",
        "colab_type": "code",
        "colab": {
          "base_uri": "https://localhost:8080/",
          "height": 88
        },
        "outputId": "88c50f8b-99f8-4dd1-e997-57ae65765fc0"
      },
      "source": [
        "import numpy as np # linear algebra\n",
        "import pandas as pd # data processing, CSV file I/O (e.g. pd.read_csv)\n",
        "import matplotlib.pyplot as plt\n",
        "import matplotlib.image as implt\n",
        "import os\n",
        "import seaborn as sns\n",
        "import cv2 as cv\n",
        "from PIL import Image\n",
        "import warnings\n",
        "# filter warnings\n",
        "warnings.filterwarnings('ignore')\n",
        "from google.colab import drive\n",
        "drive.mount('/content/drive')"
      ],
      "execution_count": null,
      "outputs": [
        {
          "output_type": "stream",
          "text": [
            "/usr/local/lib/python3.6/dist-packages/statsmodels/tools/_testing.py:19: FutureWarning: pandas.util.testing is deprecated. Use the functions in the public API at pandas.testing instead.\n",
            "  import pandas.util.testing as tm\n"
          ],
          "name": "stderr"
        },
        {
          "output_type": "stream",
          "text": [
            "Drive already mounted at /content/drive; to attempt to forcibly remount, call drive.mount(\"/content/drive\", force_remount=True).\n"
          ],
          "name": "stdout"
        }
      ]
    },
    {
      "cell_type": "code",
      "metadata": {
        "id": "ki2BzJDvEC_T",
        "colab_type": "code",
        "colab": {}
      },
      "source": [
        "!unzip '/content/drive/My Drive/DataSet_Male_female/Dataset_Male_female.zip'"
      ],
      "execution_count": null,
      "outputs": []
    },
    {
      "cell_type": "code",
      "metadata": {
        "id": "DLi5meVlCK2i",
        "colab_type": "code",
        "colab": {}
      },
      "source": [
        "#!unzip 'drive/My Drive/finalprojectML/genderdetection.zip'"
      ],
      "execution_count": null,
      "outputs": []
    },
    {
      "cell_type": "code",
      "metadata": {
        "id": "wTgGh9nFstlL",
        "colab_type": "code",
        "colab": {}
      },
      "source": [
        "\n",
        "train_path = \"/content/Dataset_Male_female/genderdetectionface/dataset1/train\"\n",
        "test_path = \"/content/Dataset_Male_female/genderdetectionface/dataset1/test\"\n",
        "\n",
        "train_woman = sorted(os.listdir(train_path +'/woman'))\n",
        "train_man =  sorted(os.listdir(train_path +'/man'))\n",
        "\n",
        "test_woman = sorted(os.listdir(test_path +'/woman'))\n",
        "test_man =  sorted(os.listdir(test_path +'/man'))"
      ],
      "execution_count": null,
      "outputs": []
    },
    {
      "cell_type": "markdown",
      "metadata": {
        "id": "la795sBfwAOO",
        "colab_type": "text"
      },
      "source": [
        "Tạo tập train_path bao gồm tất cả các hình ảnh trong tập train\n",
        "\n",
        "\n",
        "\n",
        "*   train_man: tất cả ảnh male trong tập train\n",
        "*   train_woman: tất cả ảnh female trong tập train\n",
        "*   test_man: tất cả ảnh male trong tập train\n",
        "*   test_woman: tất cả ảnh female trong tập train"
      ]
    },
    {
      "cell_type": "code",
      "metadata": {
        "id": "onAq3DL_6wn8",
        "colab_type": "code",
        "colab": {
          "base_uri": "https://localhost:8080/",
          "height": 299
        },
        "outputId": "2b426c48-b00b-4427-c077-8cb343f96e48"
      },
      "source": [
        "# Số lượng hình ảnh male và female trong dataset\n",
        "category_names = sorted(os.listdir(train_path))\n",
        "img_pr_cat = []\n",
        "for category in category_names:\n",
        "    folder = train_path + '/' + category\n",
        "    img_pr_cat.append(len(os.listdir(folder)))\n",
        "sns.barplot(x=category_names, y=img_pr_cat).set_title(\"Số lương hình ảnh được huấn luyện:\")\n"
      ],
      "execution_count": null,
      "outputs": [
        {
          "output_type": "execute_result",
          "data": {
            "text/plain": [
              "Text(0.5, 1.0, 'Số lương hình ảnh được huấn luyện:')"
            ]
          },
          "metadata": {
            "tags": []
          },
          "execution_count": 5
        },
        {
          "output_type": "display_data",
          "data": {
            "image/png": "[encoded data removed]",
            "text/plain": [
              "<Figure size 432x288 with 1 Axes>"
            ]
          },
          "metadata": {
            "tags": [],
            "needs_background": "light"
          }
        }
      ]
    },
    {
      "cell_type": "code",
      "metadata": {
        "id": "G2xJtVlR8e8a",
        "colab_type": "code",
        "colab": {
          "base_uri": "https://localhost:8080/",
          "height": 298
        },
        "outputId": "c8ebb98d-f611-4f53-dded-d311a69470ac"
      },
      "source": [
        "img_1 = implt.imread(train_path +'/woman/face_561.jpg')\n",
        "img_2 = implt.imread(train_path +'/man/face_999.jpg')\n",
        "\n",
        "plt.subplot(1, 2, 1)\n",
        "plt.title('woman')\n",
        "plt.imshow(img_1)       \n",
        "plt.subplot(1, 2, 2)\n",
        "plt.title('man')\n",
        "plt.imshow(img_2) "
      ],
      "execution_count": null,
      "outputs": [
        {
          "output_type": "execute_result",
          "data": {
            "text/plain": [
              "<matplotlib.image.AxesImage at 0x7f62625a11d0>"
            ]
          },
          "metadata": {
            "tags": []
          },
          "execution_count": 7
        },
        {
          "output_type": "display_data",
          "data": {
            "image/png": "[encoded data removed]",
            "text/plain": [
              "<Figure size 432x288 with 2 Axes>"
            ]
          },
          "metadata": {
            "tags": [],
            "needs_background": "light"
          }
        }
      ]
    },
    {
      "cell_type": "markdown",
      "metadata": {
        "id": "9Xw8gGkQyFgu",
        "colab_type": "text"
      },
      "source": [
        "In ra 2 hình ảnh đại diện trong tập train của nam và nữ và nhận xét :\n",
        "\n",
        "kích cỡ size ảnh khác nhau=> tiền xử lí"
      ]
    },
    {
      "cell_type": "code",
      "metadata": {
        "id": "9xFj_dRM-2H-",
        "colab_type": "code",
        "colab": {
          "base_uri": "https://localhost:8080/",
          "height": 51
        },
        "outputId": "ed1868b9-c443-47df-f93b-4e9ba5a8d20b"
      },
      "source": [
        "img_size = 50\n",
        "women_faces = []\n",
        "men_faces = [] \n",
        "label = []\n",
        "\n",
        "for i in train_woman:\n",
        "        \n",
        "        if os.path.isfile(train_path +'/woman/'+ i):\n",
        "            faces = Image.open(train_path +'/woman/'+ i).convert('L') #Chuyển thành ảnh xám            \n",
        "            faces = faces.resize((img_size,img_size), Image.ANTIALIAS) #resizing thành 50,50\n",
        "            faces = np.asarray(faces)/255.0 #normalizing images chia số pixel cho nhỏ lại để tiện cho tính toán\n",
        "            women_faces.append(faces)  \n",
        "            label.append(1) #1 là nữ\n",
        " \n",
        "for i in train_man:\n",
        "        if os.path.isfile(train_path+'/man/'+ i):\n",
        "            faces = Image.open(train_path+'/man/'+ i).convert('L')\n",
        "            faces = faces.resize((img_size,img_size), Image.ANTIALIAS)\n",
        "            faces = np.asarray(faces)/255.0 #normalizing images\n",
        "            men_faces.append(faces)  \n",
        "            label.append(0) #0 là nam         \n",
        "           \n",
        "x_train = np.concatenate((women_faces,men_faces),axis=0) # Ghép lại theo chiều dọc\n",
        "x_train_label = np.asarray(label)# biến tập nhãn thành mảng label gồm 0 và 1\n",
        "x_train_label = x_train_label.reshape(x_train_label.shape[0],1) #nhãn sẽ có 1 cột và số hàng bằng số train_dataset\n",
        "\n",
        "print(\"women_faces:\",np.shape(women_faces) , \"men_faces:\",np.shape(men_faces))\n",
        "print(\"train_dataset:\",np.shape(x_train), \"train_values:\",np.shape(x_train_label))"
      ],
      "execution_count": null,
      "outputs": [
        {
          "output_type": "stream",
          "text": [
            "women_faces: (7490, 50, 50) men_faces: (7531, 50, 50)\n",
            "train_dataset: (15021, 50, 50) train_values: (15021, 1)\n"
          ],
          "name": "stdout"
        }
      ]
    },
    {
      "cell_type": "markdown",
      "metadata": {
        "id": "XFjWAUWOFXfj",
        "colab_type": "text"
      },
      "source": [
        "Làm tương tự với tập test:"
      ]
    },
    {
      "cell_type": "code",
      "metadata": {
        "id": "FJRJ45kGEuIO",
        "colab_type": "code",
        "colab": {
          "base_uri": "https://localhost:8080/",
          "height": 51
        },
        "outputId": "e9980460-e308-43f1-9e98-a285f048fe48"
      },
      "source": [
        "img_size = 50\n",
        "women_faces = []\n",
        "men_faces = [] \n",
        "label = []\n",
        "\n",
        "for i in test_woman:\n",
        "        if os.path.isfile(test_path +'/woman/'+ i):\n",
        "            faces = Image.open(test_path +'/woman/'+ i).convert('L')            \n",
        "            faces = faces.resize((img_size,img_size), Image.ANTIALIAS)\n",
        "            faces = np.asarray(faces)/255.0\n",
        "            women_faces.append(faces)  \n",
        "            label.append(1)     \n",
        " \n",
        "for i in test_man:\n",
        "        if os.path.isfile(test_path+'/man/'+ i):\n",
        "            faces = Image.open(test_path+'/man/'+ i).convert('L')\n",
        "            faces = faces.resize((img_size,img_size), Image.ANTIALIAS)\n",
        "            faces = np.asarray(faces)/255.0            \n",
        "            men_faces.append(faces)\n",
        "            label.append(0)                       \n",
        "\n",
        "x_test = np.concatenate((women_faces,men_faces),axis=0) # test dataset\n",
        "x_test_label = np.asarray(label) # corresponding labels\n",
        "x_test_label = x_test_label.reshape(x_test_label.shape[0],1)\n",
        "\n",
        "print(\"women_faces:\",np.shape(women_faces), \"men_faces:\",np.shape(men_faces))\n",
        "print(\"test_dataset:\",np.shape(x_test), \"test_values:\",np.shape(x_test_label))"
      ],
      "execution_count": null,
      "outputs": [
        {
          "output_type": "stream",
          "text": [
            "women_faces: (778, 50, 50) men_faces: (805, 50, 50)\n",
            "test_dataset: (1583, 50, 50) test_values: (1583, 1)\n"
          ],
          "name": "stdout"
        }
      ]
    },
    {
      "cell_type": "code",
      "metadata": {
        "id": "y3VJ1ZsZFhlK",
        "colab_type": "code",
        "colab": {
          "base_uri": "https://localhost:8080/",
          "height": 34
        },
        "outputId": "c9208514-75ca-46de-f90f-e8ad86af95f8"
      },
      "source": [
        "###2 dòng\n",
        "x = np.concatenate((x_train,x_test),axis=0) #train_data\n",
        "y = np.concatenate((x_train_label,x_test_label),axis=0) #test data\n",
        "#chế tác đặc trưng:\n",
        "x = x.reshape(x.shape[0],x.shape[1]*x.shape[2]) #flatten 3D image array to 2D# duỗi từng ảnh thành 1 vecto có kích thước 1x2500\n",
        "print(\"images:\",np.shape(x), \"labels:\",np.shape(y))#số lượng train và test"
      ],
      "execution_count": null,
      "outputs": [
        {
          "output_type": "stream",
          "text": [
            "images: (16604, 2500) labels: (16604, 1)\n"
          ],
          "name": "stdout"
        }
      ]
    },
    {
      "cell_type": "code",
      "metadata": {
        "id": "fNvZvG5HI4JF",
        "colab_type": "code",
        "colab": {
          "base_uri": "https://localhost:8080/",
          "height": 34
        },
        "outputId": "f7dc68b6-51aa-4411-f247-6a9cc5b6679b"
      },
      "source": [
        "from sklearn.model_selection import train_test_split\n",
        "X_train, X_test, Y_train, Y_test = train_test_split(x, y, test_size=0.2, random_state=42)\n",
        "print(\"train number:\",len(X_train), \"test number:\",len(X_test))"
      ],
      "execution_count": null,
      "outputs": [
        {
          "output_type": "stream",
          "text": [
            "train number: 13283 test number: 3321\n"
          ],
          "name": "stdout"
        }
      ]
    },
    {
      "cell_type": "markdown",
      "metadata": {
        "id": "sCRuCoaRSEu6",
        "colab_type": "text"
      },
      "source": [
        "**Áp dụng các model dê tính độ chính xác**\n"
      ]
    },
    {
      "cell_type": "code",
      "metadata": {
        "id": "PHNYyL5sSEHE",
        "colab_type": "code",
        "colab": {}
      },
      "source": [
        "from sklearn.linear_model import LogisticRegression\n",
        "from sklearn.model_selection import cross_val_score\n",
        "from sklearn.model_selection import StratifiedKFold\n",
        "from sklearn.linear_model import Perceptron\n",
        "from sklearn.metrics import classification_report\n",
        "from sklearn.metrics import confusion_matrix\n",
        "from sklearn.metrics import accuracy_score\n",
        "from sklearn.linear_model import LogisticRegression\n",
        "from sklearn.tree import DecisionTreeClassifier\n",
        "from sklearn.neighbors import KNeighborsClassifier\n",
        "from sklearn.discriminant_analysis import LinearDiscriminantAnalysis\n",
        "from sklearn.naive_bayes import GaussianNB\n",
        "from sklearn.svm import SVC\n"
      ],
      "execution_count": null,
      "outputs": []
    },
    {
      "cell_type": "code",
      "metadata": {
        "id": "vqkau8Um04W9",
        "colab_type": "code",
        "colab": {}
      },
      "source": [
        "#tạo 1 list để chưa các score của các model\n",
        "model_list = []"
      ],
      "execution_count": null,
      "outputs": []
    },
    {
      "cell_type": "markdown",
      "metadata": {
        "id": "illgif5OOHUj",
        "colab_type": "text"
      },
      "source": [
        "**Model HỒi quy tuyến tính**"
      ]
    },
    {
      "cell_type": "code",
      "metadata": {
        "id": "soxZ58ul7AMR",
        "colab_type": "code",
        "colab": {
          "base_uri": "https://localhost:8080/",
          "height": 255
        },
        "outputId": "0fe96998-fe19-4e0f-eb1d-278abd90e94f"
      },
      "source": [
        "LR = LogisticRegression()\n",
        "LR.fit(X_train,Y_train)\n",
        "model_list.append(LR.score(X_test, Y_test))\n",
        "predict=LR.predict(X_test)\n",
        "print('Accuracy:  ',accuracy_score(Y_test,predict))\n",
        "print('Classification report: \\n',classification_report(Y_test,predict))\n",
        "print('Confusion matrix: \\n',confusion_matrix(Y_test,predict))\n"
      ],
      "execution_count": null,
      "outputs": [
        {
          "output_type": "stream",
          "text": [
            "Accuracy:   0.7946401686239085\n",
            "Classification report: \n",
            "               precision    recall  f1-score   support\n",
            "\n",
            "           0       0.79      0.80      0.80      1681\n",
            "           1       0.80      0.79      0.79      1640\n",
            "\n",
            "    accuracy                           0.79      3321\n",
            "   macro avg       0.79      0.79      0.79      3321\n",
            "weighted avg       0.79      0.79      0.79      3321\n",
            "\n",
            "Confusion matrix: \n",
            " [[1349  332]\n",
            " [ 350 1290]]\n"
          ],
          "name": "stdout"
        }
      ]
    },
    {
      "cell_type": "markdown",
      "metadata": {
        "id": "fJInzVSx2eBR",
        "colab_type": "text"
      },
      "source": [
        "weighted avg = (f1_score(0)*support(0))/test + (f1_score(1)*support(1))/test\n",
        "\n",
        "model dự đoán  đúng 1349 ảnh vốn có nhãn là 0\n",
        "\n",
        "model dự đoán  sai 350 ảnh vốn có nhãn là 1\n",
        "\n",
        "model dự đoán  sai 332 ảnh vốn có nhãn là 0\n",
        "\n",
        "model dự đoán  đúng 1290 ảnh vốn có nhãn là 1"
      ]
    },
    {
      "cell_type": "markdown",
      "metadata": {
        "id": "khJxFY2YOaHc",
        "colab_type": "text"
      },
      "source": [
        "**Model Linear Discriminant Analysis**"
      ]
    },
    {
      "cell_type": "code",
      "metadata": {
        "id": "CWozIu168SP8",
        "colab_type": "code",
        "colab": {
          "base_uri": "https://localhost:8080/",
          "height": 255
        },
        "outputId": "981c0df5-110e-4fa5-9e8b-b57c5a5b2d1b"
      },
      "source": [
        "LDA = LinearDiscriminantAnalysis()\n",
        "LDA.fit(X_train,Y_train)\n",
        "model_list.append(LDA.score(X_test, Y_test))\n",
        "predict=LDA.predict(X_test)\n",
        "print('Accuracy:  ',accuracy_score(Y_test,predict))\n",
        "print('Classification report: \\n',classification_report(Y_test,predict))\n",
        "print('Confusion matrix: \\n',confusion_matrix(Y_test,predict))"
      ],
      "execution_count": null,
      "outputs": [
        {
          "output_type": "stream",
          "text": [
            "Accuracy:   0.7717554953327311\n",
            "Classification report: \n",
            "               precision    recall  f1-score   support\n",
            "\n",
            "           0       0.76      0.79      0.78      1681\n",
            "           1       0.78      0.75      0.76      1640\n",
            "\n",
            "    accuracy                           0.77      3321\n",
            "   macro avg       0.77      0.77      0.77      3321\n",
            "weighted avg       0.77      0.77      0.77      3321\n",
            "\n",
            "Confusion matrix: \n",
            " [[1333  348]\n",
            " [ 410 1230]]\n"
          ],
          "name": "stdout"
        }
      ]
    },
    {
      "cell_type": "markdown",
      "metadata": {
        "id": "uosztwW-OdcC",
        "colab_type": "text"
      },
      "source": [
        "**Model K hàng xóm gần nhất**"
      ]
    },
    {
      "cell_type": "code",
      "metadata": {
        "id": "DJmaUcJVuUG7",
        "colab_type": "code",
        "colab": {
          "base_uri": "https://localhost:8080/",
          "height": 255
        },
        "outputId": "81d6097f-c352-4e14-8b32-8db9c105c8f5"
      },
      "source": [
        "from sklearn.neighbors import KNeighborsClassifier\n",
        "k= KNeighborsClassifier()\n",
        "k.fit(X_train,Y_train)\n",
        "k.score(X_test, Y_test)\n",
        "model_list.append(k.score(X_test, Y_test))\n",
        "predict=k.predict(X_test)\n",
        "print('Accuracy:  ',accuracy_score(Y_test,predict))\n",
        "print('Classification report: \\n',classification_report(Y_test,predict))\n",
        "print('Confusion matrix: \\n',confusion_matrix(Y_test,predict))"
      ],
      "execution_count": null,
      "outputs": [
        {
          "output_type": "stream",
          "text": [
            "Accuracy:   0.7886178861788617\n",
            "Classification report: \n",
            "               precision    recall  f1-score   support\n",
            "\n",
            "           0       0.77      0.82      0.80      1681\n",
            "           1       0.81      0.75      0.78      1640\n",
            "\n",
            "    accuracy                           0.79      3321\n",
            "   macro avg       0.79      0.79      0.79      3321\n",
            "weighted avg       0.79      0.79      0.79      3321\n",
            "\n",
            "Confusion matrix: \n",
            " [[1383  298]\n",
            " [ 404 1236]]\n"
          ],
          "name": "stdout"
        }
      ]
    },
    {
      "cell_type": "markdown",
      "metadata": {
        "id": "KEjdVbod8y0N",
        "colab_type": "text"
      },
      "source": [
        "**Model cây quyết định**"
      ]
    },
    {
      "cell_type": "code",
      "metadata": {
        "id": "w7TbcZle8qvm",
        "colab_type": "code",
        "colab": {
          "base_uri": "https://localhost:8080/",
          "height": 255
        },
        "outputId": "db09eaab-1fe7-4330-9ef0-c9e350b4fddd"
      },
      "source": [
        "D = DecisionTreeClassifier()\n",
        "D.fit(X_train,Y_train)\n",
        "D.score(X_test, Y_test)\n",
        "model_list.append(D.score(X_test, Y_test))\n",
        "predict=D.predict(X_test)\n",
        "print('Accuracy:  ',accuracy_score(Y_test,predict))\n",
        "print('Classification report: \\n',classification_report(Y_test,predict))\n",
        "print('Confusion matrix: \\n',confusion_matrix(Y_test,predict))"
      ],
      "execution_count": null,
      "outputs": [
        {
          "output_type": "stream",
          "text": [
            "Accuracy:   0.7181571815718157\n",
            "Classification report: \n",
            "               precision    recall  f1-score   support\n",
            "\n",
            "           0       0.73      0.71      0.72      1681\n",
            "           1       0.71      0.73      0.72      1640\n",
            "\n",
            "    accuracy                           0.72      3321\n",
            "   macro avg       0.72      0.72      0.72      3321\n",
            "weighted avg       0.72      0.72      0.72      3321\n",
            "\n",
            "Confusion matrix: \n",
            " [[1190  491]\n",
            " [ 445 1195]]\n"
          ],
          "name": "stdout"
        }
      ]
    },
    {
      "cell_type": "markdown",
      "metadata": {
        "id": "F3CL24on83_J",
        "colab_type": "text"
      },
      "source": [
        "**Model Gausainn NB**"
      ]
    },
    {
      "cell_type": "code",
      "metadata": {
        "id": "3u6lcXnc8-Dt",
        "colab_type": "code",
        "colab": {
          "base_uri": "https://localhost:8080/",
          "height": 255
        },
        "outputId": "fd2f0c2c-90c6-4925-be54-04f979a2b654"
      },
      "source": [
        "NB = GaussianNB()\n",
        "NB.fit(X_train,Y_train)\n",
        "NB.score(X_test, Y_test)\n",
        "model_list.append(NB.score(X_test, Y_test))\n",
        "predict=NB.predict(X_test)\n",
        "print('Accuracy:  ',accuracy_score(Y_test,predict))\n",
        "print('Classification report: \\n',classification_report(Y_test,predict))\n",
        "print('Confusion matrix: \\n',confusion_matrix(Y_test,predict))"
      ],
      "execution_count": null,
      "outputs": [
        {
          "output_type": "stream",
          "text": [
            "Accuracy:   0.7398373983739838\n",
            "Classification report: \n",
            "               precision    recall  f1-score   support\n",
            "\n",
            "           0       0.74      0.74      0.74      1681\n",
            "           1       0.74      0.74      0.74      1640\n",
            "\n",
            "    accuracy                           0.74      3321\n",
            "   macro avg       0.74      0.74      0.74      3321\n",
            "weighted avg       0.74      0.74      0.74      3321\n",
            "\n",
            "Confusion matrix: \n",
            " [[1251  430]\n",
            " [ 434 1206]]\n"
          ],
          "name": "stdout"
        }
      ]
    },
    {
      "cell_type": "markdown",
      "metadata": {
        "id": "ASD7pwFy9UHe",
        "colab_type": "text"
      },
      "source": [
        "**Model SVC**"
      ]
    },
    {
      "cell_type": "code",
      "metadata": {
        "id": "kFSBzJPX9ZGf",
        "colab_type": "code",
        "colab": {
          "base_uri": "https://localhost:8080/",
          "height": 255
        },
        "outputId": "32ee0acc-4f47-4a88-8ac7-782999f31810"
      },
      "source": [
        "S = SVC()\n",
        "S.fit(X_train,Y_train)\n",
        "S.score(X_test, Y_test)\n",
        "model_list.append(S.score(X_test, Y_test))\n",
        "predict=S.predict(X_test)\n",
        "print('Accuracy:  ',accuracy_score(Y_test,predict))\n",
        "print('Classification report: \\n',classification_report(Y_test,predict))\n",
        "print('Confusion matrix: \\n',confusion_matrix(Y_test,predict))"
      ],
      "execution_count": null,
      "outputs": [
        {
          "output_type": "stream",
          "text": [
            "Accuracy:   0.8732309545317676\n",
            "Classification report: \n",
            "               precision    recall  f1-score   support\n",
            "\n",
            "           0       0.86      0.90      0.88      1681\n",
            "           1       0.89      0.85      0.87      1640\n",
            "\n",
            "    accuracy                           0.87      3321\n",
            "   macro avg       0.87      0.87      0.87      3321\n",
            "weighted avg       0.87      0.87      0.87      3321\n",
            "\n",
            "Confusion matrix: \n",
            " [[1507  174]\n",
            " [ 247 1393]]\n"
          ],
          "name": "stdout"
        }
      ]
    },
    {
      "cell_type": "markdown",
      "metadata": {
        "id": "tWAKJZrA9k7o",
        "colab_type": "text"
      },
      "source": [
        "**Model Perceptron**"
      ]
    },
    {
      "cell_type": "code",
      "metadata": {
        "id": "RsQwstUO9n_d",
        "colab_type": "code",
        "colab": {
          "base_uri": "https://localhost:8080/",
          "height": 255
        },
        "outputId": "c46d5835-71d4-4b82-9775-969352fda659"
      },
      "source": [
        "p = Perceptron()\n",
        "p.fit(X_train,Y_train)\n",
        "p.score(X_test, Y_test)\n",
        "model_list.append(p.score(X_test, Y_test))\n",
        "predict=p.predict(X_test)\n",
        "print('Accuracy:  ',accuracy_score(Y_test,predict))\n",
        "print('Classification report: \\n',classification_report(Y_test,predict))\n",
        "print('Confusion matrix: \\n',confusion_matrix(Y_test,predict))"
      ],
      "execution_count": null,
      "outputs": [
        {
          "output_type": "stream",
          "text": [
            "Accuracy:   0.7919301415236375\n",
            "Classification report: \n",
            "               precision    recall  f1-score   support\n",
            "\n",
            "           0       0.76      0.86      0.81      1681\n",
            "           1       0.83      0.73      0.78      1640\n",
            "\n",
            "    accuracy                           0.79      3321\n",
            "   macro avg       0.80      0.79      0.79      3321\n",
            "weighted avg       0.80      0.79      0.79      3321\n",
            "\n",
            "Confusion matrix: \n",
            " [[1439  242]\n",
            " [ 449 1191]]\n"
          ],
          "name": "stdout"
        }
      ]
    },
    {
      "cell_type": "code",
      "metadata": {
        "id": "I5I6ajjuNXrQ",
        "colab_type": "code",
        "colab": {
          "base_uri": "https://localhost:8080/",
          "height": 312
        },
        "outputId": "e28fa873-8527-4a8c-baf1-f260e49845b4"
      },
      "source": [
        "import matplotlib.pyplot as plt\n",
        "plt.subplot(1,2,1)\n",
        "names = ['LR','LDA','k','D','NB','S','p']\n",
        "plt.bar(names,model_list,color='green', label =' accuracy')\n",
        "plt.title(' Accuracy models ')\n",
        "plt.xlabel('Compare acc')\n",
        "plt.ylabel('accuracy')"
      ],
      "execution_count": null,
      "outputs": [
        {
          "output_type": "execute_result",
          "data": {
            "text/plain": [
              "Text(0, 0.5, 'accuracy')"
            ]
          },
          "metadata": {
            "tags": []
          },
          "execution_count": 58
        },
        {
          "output_type": "display_data",
          "data": {
            "image/png": "[encoded data removed]",
            "text/plain": [
              "<Figure size 432x288 with 1 Axes>"
            ]
          },
          "metadata": {
            "tags": [],
            "needs_background": "light"
          }
        }
      ]
    },
    {
      "cell_type": "markdown",
      "metadata": {
        "id": "9uSAzb806VSx",
        "colab_type": "text"
      },
      "source": [
        "Vậy áp dụng model SVC cho bài toán"
      ]
    },
    {
      "cell_type": "code",
      "metadata": {
        "id": "km5weL2HUvjq",
        "colab_type": "code",
        "colab": {
          "base_uri": "https://localhost:8080/",
          "height": 197
        },
        "outputId": "1afca5c9-f7d5-4722-aef6-4077c7b1f969"
      },
      "source": [
        "import pickle \n",
        "# Save the trained model as a pickle string. \n",
        "filename = '/content/drive/My Drive/Model/S.sav'\n",
        "pickle.dump(SVC(), open(filename, 'wb'))"
      ],
      "execution_count": null,
      "outputs": [
        {
          "output_type": "error",
          "ename": "NameError",
          "evalue": "ignored",
          "traceback": [
            "\u001b[0;31m---------------------------------------------------------------------------\u001b[0m",
            "\u001b[0;31mNameError\u001b[0m                                 Traceback (most recent call last)",
            "\u001b[0;32m<ipython-input-22-b7395d38d315>\u001b[0m in \u001b[0;36m<module>\u001b[0;34m()\u001b[0m\n\u001b[1;32m      2\u001b[0m \u001b[0;31m# Save the trained model as a pickle string.\u001b[0m\u001b[0;34m\u001b[0m\u001b[0;34m\u001b[0m\u001b[0;34m\u001b[0m\u001b[0m\n\u001b[1;32m      3\u001b[0m \u001b[0mfilename\u001b[0m \u001b[0;34m=\u001b[0m \u001b[0;34m'/content/drive/My Drive/Model/S.sav'\u001b[0m\u001b[0;34m\u001b[0m\u001b[0;34m\u001b[0m\u001b[0m\n\u001b[0;32m----> 4\u001b[0;31m \u001b[0mpickle\u001b[0m\u001b[0;34m.\u001b[0m\u001b[0mdump\u001b[0m\u001b[0;34m(\u001b[0m\u001b[0mS\u001b[0m\u001b[0;34m,\u001b[0m \u001b[0mopen\u001b[0m\u001b[0;34m(\u001b[0m\u001b[0mfilename\u001b[0m\u001b[0;34m,\u001b[0m \u001b[0;34m'wb'\u001b[0m\u001b[0;34m)\u001b[0m\u001b[0;34m)\u001b[0m\u001b[0;34m\u001b[0m\u001b[0;34m\u001b[0m\u001b[0m\n\u001b[0m",
            "\u001b[0;31mNameError\u001b[0m: name 'S' is not defined"
          ]
        }
      ]
    },
    {
      "cell_type": "code",
      "metadata": {
        "id": "IP0BwzEAWbcs",
        "colab_type": "code",
        "colab": {}
      },
      "source": [
        "# Load the pickled model \n",
        "import pickle\n",
        "loaded_model = pickle.load(open(filename, 'rb'))"
      ],
      "execution_count": null,
      "outputs": []
    },
    {
      "cell_type": "markdown",
      "metadata": {
        "id": "4PPFNkNN_yb_",
        "colab_type": "text"
      },
      "source": [
        "**TINH CHỈNH THAM SỐ**"
      ]
    },
    {
      "cell_type": "code",
      "metadata": {
        "id": "4URBpC92_2Gt",
        "colab_type": "code",
        "colab": {}
      },
      "source": [
        "from sklearn.model_selection import GridSearchCV\n"
      ],
      "execution_count": null,
      "outputs": []
    },
    {
      "cell_type": "code",
      "metadata": {
        "id": "m3EyJaNJAjgf",
        "colab_type": "code",
        "colab": {}
      },
      "source": [
        "para = {'C':[1,3], 'gamma':['scale','auto']}\n",
        "g= GridSearchCV(SVC(),param_grid= para)"
      ],
      "execution_count": null,
      "outputs": []
    },
    {
      "cell_type": "code",
      "metadata": {
        "id": "EpaG_BfP7mJL",
        "colab_type": "code",
        "colab": {
          "base_uri": "https://localhost:8080/",
          "height": 204
        },
        "outputId": "db1d1584-fc31-4029-be8b-ff52edc3e568"
      },
      "source": [
        "g.fit(X_train,Y_train)"
      ],
      "execution_count": null,
      "outputs": [
        {
          "output_type": "execute_result",
          "data": {
            "text/plain": [
              "GridSearchCV(cv=None, error_score=nan,\n",
              "             estimator=SVC(C=1.0, break_ties=False, cache_size=200,\n",
              "                           class_weight=None, coef0=0.0,\n",
              "                           decision_function_shape='ovr', degree=3,\n",
              "                           gamma='scale', kernel='rbf', max_iter=-1,\n",
              "                           probability=False, random_state=None, shrinking=True,\n",
              "                           tol=0.001, verbose=False),\n",
              "             iid='deprecated', n_jobs=None,\n",
              "             param_grid={'C': [1, 3], 'gamma': ['scale', 'auto']},\n",
              "             pre_dispatch='2*n_jobs', refit=True, return_train_score=False,\n",
              "             scoring=None, verbose=0)"
            ]
          },
          "metadata": {
            "tags": []
          },
          "execution_count": 15
        }
      ]
    },
    {
      "cell_type": "code",
      "metadata": {
        "id": "1cPn_ld97Hyc",
        "colab_type": "code",
        "colab": {
          "base_uri": "https://localhost:8080/",
          "height": 85
        },
        "outputId": "a5cf9429-60f0-4a86-de4b-79533c0e5cc4"
      },
      "source": [
        "g.best_estimator_"
      ],
      "execution_count": null,
      "outputs": [
        {
          "output_type": "execute_result",
          "data": {
            "text/plain": [
              "SVC(C=3, break_ties=False, cache_size=200, class_weight=None, coef0=0.0,\n",
              "    decision_function_shape='ovr', degree=3, gamma='scale', kernel='rbf',\n",
              "    max_iter=-1, probability=False, random_state=None, shrinking=True,\n",
              "    tol=0.001, verbose=False)"
            ]
          },
          "metadata": {
            "tags": []
          },
          "execution_count": 16
        }
      ]
    },
    {
      "cell_type": "code",
      "metadata": {
        "id": "LhRfwhVere6G",
        "colab_type": "code",
        "colab": {
          "base_uri": "https://localhost:8080/",
          "height": 34
        },
        "outputId": "3d645200-d053-427e-d1ba-9667d80102d8"
      },
      "source": [
        "g.score(X_test, Y_test)"
      ],
      "execution_count": null,
      "outputs": [
        {
          "output_type": "execute_result",
          "data": {
            "text/plain": [
              "0.8849744052996086"
            ]
          },
          "metadata": {
            "tags": []
          },
          "execution_count": 17
        }
      ]
    },
    {
      "cell_type": "markdown",
      "metadata": {
        "id": "hySbVbUruxZM",
        "colab_type": "text"
      },
      "source": [
        "Ta thấy sau khi tinh chỉnh thì độ chính xác đã cao hơn so với trước khi tinh chỉnh (0.8732309545317676), ta tiến hành tinh chỉnh lần thứ 2 để xem kết quả"
      ]
    },
    {
      "cell_type": "code",
      "metadata": {
        "id": "S11DmneN9886",
        "colab_type": "code",
        "colab": {
          "base_uri": "https://localhost:8080/",
          "height": 163
        },
        "outputId": "354a3f6d-6627-4b45-be39-9fa8e4b766e9"
      },
      "source": [
        "newS = g.best_estimator_"
      ],
      "execution_count": null,
      "outputs": [
        {
          "output_type": "error",
          "ename": "NameError",
          "evalue": "ignored",
          "traceback": [
            "\u001b[0;31m---------------------------------------------------------------------------\u001b[0m",
            "\u001b[0;31mNameError\u001b[0m                                 Traceback (most recent call last)",
            "\u001b[0;32m<ipython-input-27-6248f4bcfe5a>\u001b[0m in \u001b[0;36m<module>\u001b[0;34m()\u001b[0m\n\u001b[0;32m----> 1\u001b[0;31m \u001b[0mnewS\u001b[0m \u001b[0;34m=\u001b[0m \u001b[0mg\u001b[0m\u001b[0;34m.\u001b[0m\u001b[0mbest_estimator_\u001b[0m\u001b[0;34m\u001b[0m\u001b[0;34m\u001b[0m\u001b[0m\n\u001b[0m",
            "\u001b[0;31mNameError\u001b[0m: name 'g' is not defined"
          ]
        }
      ]
    },
    {
      "cell_type": "code",
      "metadata": {
        "id": "QhHyC6ZztAg9",
        "colab_type": "code",
        "colab": {}
      },
      "source": [
        "import pickle \n",
        "# Save the trained model as a pickle string. \n",
        "filename2 = '/content/drive/My Drive/Model/newS.sav'\n",
        "pickle.dump(newS, open(filename, 'wb'))"
      ],
      "execution_count": null,
      "outputs": []
    },
    {
      "cell_type": "code",
      "metadata": {
        "id": "XFeVS9vztfEW",
        "colab_type": "code",
        "colab": {}
      },
      "source": [
        "import pickle\n",
        "f = '/content/drive/My Drive/Model/newS.sav'\n",
        "loaded_model = pickle.load(open(f, 'rb'))"
      ],
      "execution_count": null,
      "outputs": []
    },
    {
      "cell_type": "markdown",
      "metadata": {
        "id": "-ylhvf1ZuivK",
        "colab_type": "text"
      },
      "source": [
        "tinh chỉnh lần 2"
      ]
    },
    {
      "cell_type": "code",
      "metadata": {
        "id": "ImEo49MkvK_A",
        "colab_type": "code",
        "colab": {}
      },
      "source": [
        "para2 = {'C':[4,5], 'gamma':['scale']}\n",
        "g2= GridSearchCV(SVC(),param_grid= para2)"
      ],
      "execution_count": null,
      "outputs": []
    },
    {
      "cell_type": "code",
      "metadata": {
        "id": "7ALRTTj-vhZy",
        "colab_type": "code",
        "colab": {
          "base_uri": "https://localhost:8080/",
          "height": 204
        },
        "outputId": "85fa5d23-1fef-4e8c-de3a-8698f926c837"
      },
      "source": [
        "g2.fit(X_train,Y_train)"
      ],
      "execution_count": null,
      "outputs": [
        {
          "output_type": "execute_result",
          "data": {
            "text/plain": [
              "GridSearchCV(cv=None, error_score=nan,\n",
              "             estimator=SVC(C=1.0, break_ties=False, cache_size=200,\n",
              "                           class_weight=None, coef0=0.0,\n",
              "                           decision_function_shape='ovr', degree=3,\n",
              "                           gamma='scale', kernel='rbf', max_iter=-1,\n",
              "                           probability=False, random_state=None, shrinking=True,\n",
              "                           tol=0.001, verbose=False),\n",
              "             iid='deprecated', n_jobs=None,\n",
              "             param_grid={'C': [4, 5], 'gamma': ['scale']},\n",
              "             pre_dispatch='2*n_jobs', refit=True, return_train_score=False,\n",
              "             scoring=None, verbose=0)"
            ]
          },
          "metadata": {
            "tags": []
          },
          "execution_count": 32
        }
      ]
    },
    {
      "cell_type": "code",
      "metadata": {
        "id": "MS2kv-ddutBy",
        "colab_type": "code",
        "colab": {
          "base_uri": "https://localhost:8080/",
          "height": 85
        },
        "outputId": "a3ae02cd-1d47-452a-d297-cc1cfc1af1b1"
      },
      "source": [
        "g2.best_estimator_"
      ],
      "execution_count": null,
      "outputs": [
        {
          "output_type": "execute_result",
          "data": {
            "text/plain": [
              "SVC(C=5, break_ties=False, cache_size=200, class_weight=None, coef0=0.0,\n",
              "    decision_function_shape='ovr', degree=3, gamma='scale', kernel='rbf',\n",
              "    max_iter=-1, probability=False, random_state=None, shrinking=True,\n",
              "    tol=0.001, verbose=False)"
            ]
          },
          "metadata": {
            "tags": []
          },
          "execution_count": 33
        }
      ]
    },
    {
      "cell_type": "code",
      "metadata": {
        "id": "SBwqFvsBuv80",
        "colab_type": "code",
        "colab": {
          "base_uri": "https://localhost:8080/",
          "height": 34
        },
        "outputId": "bb020ea8-b216-45ae-e90f-e744d08a98ec"
      },
      "source": [
        "g2.score(X_test, Y_test)"
      ],
      "execution_count": null,
      "outputs": [
        {
          "output_type": "execute_result",
          "data": {
            "text/plain": [
              "0.8846732911773563"
            ]
          },
          "metadata": {
            "tags": []
          },
          "execution_count": 34
        }
      ]
    },
    {
      "cell_type": "markdown",
      "metadata": {
        "id": "WmuAx59M5Tgc",
        "colab_type": "text"
      },
      "source": [
        "kết quả sau khi tinh chỉnh lần 2 không lớn hơn kết quả lần đầu. Vậy chọn model newS làm model chính thức"
      ]
    },
    {
      "cell_type": "markdown",
      "metadata": {
        "id": "hN-bmgwS90Q3",
        "colab_type": "text"
      },
      "source": [
        "**Xử lí ảnh input đưa vào trước khi dự đoán**"
      ]
    },
    {
      "cell_type": "code",
      "metadata": {
        "id": "79Q9Y9t5QZBv",
        "colab_type": "code",
        "colab": {
          "base_uri": "https://localhost:8080/",
          "height": 34
        },
        "outputId": "1a6cbff7-df9b-4138-c2b0-f4c375addc3a"
      },
      "source": [
        "from sklearn.model_selection import cross_val_predict\n",
        "from sklearn.metrics import confusion_matrix , precision_score, recall_score\n",
        "import cv2\n",
        "from keras.preprocessing.image import load_img\n",
        "from keras.preprocessing.image import img_to_array\n",
        "from keras.models import load_model\n",
        "def detect (img):\n",
        "  img_1 = img\n",
        "  input = img\n",
        "  ##cv2_imshow(img_1)\n",
        "  input = cv2.cvtColor(input, cv2.COLOR_RGB2GRAY)\n",
        "  input = cv2.resize(input,(50,50), Image.ANTIALIAS)\n",
        "  input = np.reshape(input, 50*50)\n",
        "  input = (np.asarray(input)/255.0)   \n",
        "  result = loaded_model.predict([input])\n",
        "  return(result)\n"
      ],
      "execution_count": null,
      "outputs": [
        {
          "output_type": "stream",
          "text": [
            "Using TensorFlow backend.\n"
          ],
          "name": "stderr"
        }
      ]
    },
    {
      "cell_type": "code",
      "metadata": {
        "id": "zHDn7gdnhphD",
        "colab_type": "code",
        "colab": {
          "base_uri": "https://localhost:8080/",
          "height": 326
        },
        "outputId": "05d55d7f-8fd8-41bc-dadc-8b6d4306a1d4"
      },
      "source": [
        "!pip install dlib\n",
        "!pip install face_recognition"
      ],
      "execution_count": null,
      "outputs": [
        {
          "output_type": "stream",
          "text": [
            "Requirement already satisfied: dlib in /usr/local/lib/python3.6/dist-packages (19.18.0)\n",
            "Collecting face_recognition\n",
            "  Downloading https://files.pythonhosted.org/packages/1e/95/f6c9330f54ab07bfa032bf3715c12455a381083125d8880c43cbe76bb3d0/face_recognition-1.3.0-py2.py3-none-any.whl\n",
            "Collecting face-recognition-models>=0.3.0\n",
            "\u001b[?25l  Downloading https://files.pythonhosted.org/packages/cf/3b/4fd8c534f6c0d1b80ce0973d01331525538045084c73c153ee6df20224cf/face_recognition_models-0.3.0.tar.gz (100.1MB)\n",
            "\u001b[K     |████████████████████████████████| 100.2MB 106kB/s \n",
            "\u001b[?25hRequirement already satisfied: dlib>=19.7 in /usr/local/lib/python3.6/dist-packages (from face_recognition) (19.18.0)\n",
            "Requirement already satisfied: Pillow in /usr/local/lib/python3.6/dist-packages (from face_recognition) (7.0.0)\n",
            "Requirement already satisfied: numpy in /usr/local/lib/python3.6/dist-packages (from face_recognition) (1.18.5)\n",
            "Requirement already satisfied: Click>=6.0 in /usr/local/lib/python3.6/dist-packages (from face_recognition) (7.1.2)\n",
            "Building wheels for collected packages: face-recognition-models\n",
            "  Building wheel for face-recognition-models (setup.py) ... \u001b[?25l\u001b[?25hdone\n",
            "  Created wheel for face-recognition-models: filename=face_recognition_models-0.3.0-py2.py3-none-any.whl size=100566172 sha256=4d8a613fcdf7d1d5a4b6c44bcd5d2d6f883e97a817018ba84282a621bfe6c261\n",
            "  Stored in directory: /root/.cache/pip/wheels/d2/99/18/59c6c8f01e39810415c0e63f5bede7d83dfb0ffc039865465f\n",
            "Successfully built face-recognition-models\n",
            "Installing collected packages: face-recognition-models, face-recognition\n",
            "Successfully installed face-recognition-1.3.0 face-recognition-models-0.3.0\n"
          ],
          "name": "stdout"
        }
      ]
    },
    {
      "cell_type": "code",
      "metadata": {
        "id": "J57z7N76JeRZ",
        "colab_type": "code",
        "colab": {}
      },
      "source": [
        "import face_recognition"
      ],
      "execution_count": null,
      "outputs": []
    },
    {
      "cell_type": "code",
      "metadata": {
        "id": "qF1IJSQ_nX9U",
        "colab_type": "code",
        "colab": {
          "resources": {
            "http://localhost:8080/nbextensions/google.colab/files.js": {
              "data": "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",
              "ok": true,
              "headers": [
                [
                  "content-type",
                  "application/javascript"
                ]
              ],
              "status": 200,
              "status_text": ""
            }
          },
          "base_uri": "https://localhost:8080/",
          "height": 72
        },
        "outputId": "573e84af-d870-4a15-bc2f-842ebfc29b9a"
      },
      "source": [
        "from google.colab import files\n",
        "uploaded = files.upload()"
      ],
      "execution_count": null,
      "outputs": [
        {
          "output_type": "display_data",
          "data": {
            "text/html": [
              "\n",
              "     <input type=\"file\" id=\"files-13829676-48d5-4b99-9cb5-733a2d4c8550\" name=\"files[]\" multiple disabled\n",
              "        style=\"border:none\" />\n",
              "     <output id=\"result-13829676-48d5-4b99-9cb5-733a2d4c8550\">\n",
              "      Upload widget is only available when the cell has been executed in the\n",
              "      current browser session. Please rerun this cell to enable.\n",
              "      </output>\n",
              "      <script src=\"/nbextensions/google.colab/files.js\"></script> "
            ],
            "text/plain": [
              "<IPython.core.display.HTML object>"
            ]
          },
          "metadata": {
            "tags": []
          }
        },
        {
          "output_type": "stream",
          "text": [
            "Saving 109783587_287221932359261_7903660508333721988_n.jpg to 109783587_287221932359261_7903660508333721988_n.jpg\n"
          ],
          "name": "stdout"
        }
      ]
    },
    {
      "cell_type": "code",
      "metadata": {
        "id": "rCynL4yXnI1S",
        "colab_type": "code",
        "colab": {
          "base_uri": "https://localhost:8080/",
          "height": 248
        },
        "outputId": "3cc1c92b-897c-416a-9f88-f6e76059c868"
      },
      "source": [
        "for fn in uploaded.keys():\n",
        "  print('User uploaded file \"{name}\" with length {length} bytes'.format(name=fn, length=len(uploaded[fn])))\n",
        "\n",
        "  image = face_recognition.load_image_file(fn)\n",
        "\n",
        "  plt.imshow(image)\n",
        "  plt.show()  \n",
        "  \n",
        "  face_locations = face_recognition.face_locations(image)\n",
        "\n",
        "  print(\"Found {} face(s) in this photograph.\".format(len(face_locations)))\n",
        "\n",
        "  for face_location in face_locations:\n",
        "    top, right, bottom, left = face_location\n",
        "    print(\"A face is located at pixel location Top: {}, Left: {}, Bottom: {}, Right: {}\".format(top, left, bottom, right))\n",
        "    face_image = image[top:bottom, left:right]\n",
        "    plt.imshow(face_image)\n",
        "    plt.show()\n",
        "    if detect(face_image):\n",
        "      print( \"               Female\")\n",
        "    else:\n",
        "      print(\"                Male\")\n",
        "    "
      ],
      "execution_count": null,
      "outputs": [
        {
          "output_type": "stream",
          "text": [
            "User uploaded file \"109783587_287221932359261_7903660508333721988_n.jpg\" with length 59647 bytes\n"
          ],
          "name": "stdout"
        },
        {
          "output_type": "error",
          "ename": "NameError",
          "evalue": "ignored",
          "traceback": [
            "\u001b[0;31m---------------------------------------------------------------------------\u001b[0m",
            "\u001b[0;31mNameError\u001b[0m                                 Traceback (most recent call last)",
            "\u001b[0;32m<ipython-input-5-91b7375b7af2>\u001b[0m in \u001b[0;36m<module>\u001b[0;34m()\u001b[0m\n\u001b[1;32m      2\u001b[0m   \u001b[0mprint\u001b[0m\u001b[0;34m(\u001b[0m\u001b[0;34m'User uploaded file \"{name}\" with length {length} bytes'\u001b[0m\u001b[0;34m.\u001b[0m\u001b[0mformat\u001b[0m\u001b[0;34m(\u001b[0m\u001b[0mname\u001b[0m\u001b[0;34m=\u001b[0m\u001b[0mfn\u001b[0m\u001b[0;34m,\u001b[0m \u001b[0mlength\u001b[0m\u001b[0;34m=\u001b[0m\u001b[0mlen\u001b[0m\u001b[0;34m(\u001b[0m\u001b[0muploaded\u001b[0m\u001b[0;34m[\u001b[0m\u001b[0mfn\u001b[0m\u001b[0;34m]\u001b[0m\u001b[0;34m)\u001b[0m\u001b[0;34m)\u001b[0m\u001b[0;34m)\u001b[0m\u001b[0;34m\u001b[0m\u001b[0;34m\u001b[0m\u001b[0m\n\u001b[1;32m      3\u001b[0m \u001b[0;34m\u001b[0m\u001b[0m\n\u001b[0;32m----> 4\u001b[0;31m   \u001b[0mimage\u001b[0m \u001b[0;34m=\u001b[0m \u001b[0mface_recognition\u001b[0m\u001b[0;34m.\u001b[0m\u001b[0mload_image_file\u001b[0m\u001b[0;34m(\u001b[0m\u001b[0mfn\u001b[0m\u001b[0;34m)\u001b[0m\u001b[0;34m\u001b[0m\u001b[0;34m\u001b[0m\u001b[0m\n\u001b[0m\u001b[1;32m      5\u001b[0m \u001b[0;34m\u001b[0m\u001b[0m\n\u001b[1;32m      6\u001b[0m   \u001b[0mplt\u001b[0m\u001b[0;34m.\u001b[0m\u001b[0mimshow\u001b[0m\u001b[0;34m(\u001b[0m\u001b[0mimage\u001b[0m\u001b[0;34m)\u001b[0m\u001b[0;34m\u001b[0m\u001b[0;34m\u001b[0m\u001b[0m\n",
            "\u001b[0;31mNameError\u001b[0m: name 'face_recognition' is not defined"
          ]
        }
      ]
    }
  ]
}